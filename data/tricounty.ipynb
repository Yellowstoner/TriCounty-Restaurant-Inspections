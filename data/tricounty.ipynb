{
 "cells": [
  {
   "cell_type": "code",
   "execution_count": 1,
   "metadata": {},
   "outputs": [],
   "source": [
    "# Dependencies\n",
    "import pandas as pd\n",
    "import matplotlib.pyplot as plt\n",
    "import numpy as np"
   ]
  },
  {
   "cell_type": "markdown",
   "metadata": {},
   "source": [
    "# Tri-County Restaurant Inspection Data"
   ]
  },
  {
   "cell_type": "code",
   "execution_count": 2,
   "metadata": {},
   "outputs": [],
   "source": [
    "# Read CSV\n",
    "restaurants = pd.read_csv(\"../raw-data.csv\", index_col=None)"
   ]
  },
  {
   "cell_type": "code",
   "execution_count": 3,
   "metadata": {
    "scrolled": true
   },
   "outputs": [
    {
     "data": {
      "text/html": [
       "<div>\n",
       "<style scoped>\n",
       "    .dataframe tbody tr th:only-of-type {\n",
       "        vertical-align: middle;\n",
       "    }\n",
       "\n",
       "    .dataframe tbody tr th {\n",
       "        vertical-align: top;\n",
       "    }\n",
       "\n",
       "    .dataframe thead th {\n",
       "        text-align: right;\n",
       "    }\n",
       "</style>\n",
       "<table border=\"1\" class=\"dataframe\">\n",
       "  <thead>\n",
       "    <tr style=\"text-align: right;\">\n",
       "      <th></th>\n",
       "      <th>facility_id</th>\n",
       "      <th>record_id</th>\n",
       "      <th>serial_number</th>\n",
       "      <th>service_desc</th>\n",
       "      <th>pe</th>\n",
       "      <th>pe_desc</th>\n",
       "      <th>risk_category</th>\n",
       "      <th>description</th>\n",
       "      <th>county</th>\n",
       "      <th>agency</th>\n",
       "      <th>...</th>\n",
       "      <th>FC48</th>\n",
       "      <th>FC49</th>\n",
       "      <th>FC50</th>\n",
       "      <th>FC51</th>\n",
       "      <th>FC52</th>\n",
       "      <th>FC53</th>\n",
       "      <th>FC54</th>\n",
       "      <th>FC55</th>\n",
       "      <th>FC56</th>\n",
       "      <th>good_retail_practices_violations</th>\n",
       "    </tr>\n",
       "  </thead>\n",
       "  <tbody>\n",
       "    <tr>\n",
       "      <th>0</th>\n",
       "      <td>FA0009996</td>\n",
       "      <td>PR0011864</td>\n",
       "      <td>DAYR2RKBT</td>\n",
       "      <td>Inspection, Routine</td>\n",
       "      <td>1045</td>\n",
       "      <td>Restaurant (101 - 200 seats)</td>\n",
       "      <td>Med Risk (3)</td>\n",
       "      <td>Food - Restaurants</td>\n",
       "      <td>Arapahoe</td>\n",
       "      <td>Tri-County Health Department</td>\n",
       "      <td>...</td>\n",
       "      <td>0</td>\n",
       "      <td>1</td>\n",
       "      <td>0</td>\n",
       "      <td>1</td>\n",
       "      <td>0</td>\n",
       "      <td>0</td>\n",
       "      <td>0</td>\n",
       "      <td>0</td>\n",
       "      <td>0</td>\n",
       "      <td>4</td>\n",
       "    </tr>\n",
       "    <tr>\n",
       "      <th>1</th>\n",
       "      <td>FA0011070</td>\n",
       "      <td>PR0012733</td>\n",
       "      <td>DANHOPAEL</td>\n",
       "      <td>Inspection, Routine</td>\n",
       "      <td>1007</td>\n",
       "      <td>Limited Food Service (convenience, other)</td>\n",
       "      <td>Low Risk (2)</td>\n",
       "      <td>Food - Restaurants</td>\n",
       "      <td>Arapahoe</td>\n",
       "      <td>Tri-County Health Department</td>\n",
       "      <td>...</td>\n",
       "      <td>0</td>\n",
       "      <td>0</td>\n",
       "      <td>0</td>\n",
       "      <td>1</td>\n",
       "      <td>0</td>\n",
       "      <td>0</td>\n",
       "      <td>0</td>\n",
       "      <td>0</td>\n",
       "      <td>0</td>\n",
       "      <td>1</td>\n",
       "    </tr>\n",
       "    <tr>\n",
       "      <th>2</th>\n",
       "      <td>FA0010971</td>\n",
       "      <td>PR0012573</td>\n",
       "      <td>DAFZVKMMB</td>\n",
       "      <td>Inspection, Routine</td>\n",
       "      <td>1007</td>\n",
       "      <td>Limited Food Service (convenience, other)</td>\n",
       "      <td>Low Risk (2)</td>\n",
       "      <td>Food - Restaurants</td>\n",
       "      <td>Arapahoe</td>\n",
       "      <td>Tri-County Health Department</td>\n",
       "      <td>...</td>\n",
       "      <td>0</td>\n",
       "      <td>0</td>\n",
       "      <td>0</td>\n",
       "      <td>0</td>\n",
       "      <td>0</td>\n",
       "      <td>0</td>\n",
       "      <td>0</td>\n",
       "      <td>0</td>\n",
       "      <td>0</td>\n",
       "      <td>0</td>\n",
       "    </tr>\n",
       "    <tr>\n",
       "      <th>3</th>\n",
       "      <td>FA0008454</td>\n",
       "      <td>PR0011453</td>\n",
       "      <td>DAA6ICOWD</td>\n",
       "      <td>Inspection, Routine</td>\n",
       "      <td>1045</td>\n",
       "      <td>Restaurant (101 - 200 seats)</td>\n",
       "      <td>Med Risk (3)</td>\n",
       "      <td>Food - Restaurants</td>\n",
       "      <td>Arapahoe</td>\n",
       "      <td>Tri-County Health Department</td>\n",
       "      <td>...</td>\n",
       "      <td>0</td>\n",
       "      <td>0</td>\n",
       "      <td>0</td>\n",
       "      <td>0</td>\n",
       "      <td>0</td>\n",
       "      <td>0</td>\n",
       "      <td>0</td>\n",
       "      <td>0</td>\n",
       "      <td>0</td>\n",
       "      <td>1</td>\n",
       "    </tr>\n",
       "    <tr>\n",
       "      <th>4</th>\n",
       "      <td>FA0003507</td>\n",
       "      <td>PR0010770</td>\n",
       "      <td>DATCQ0VC0</td>\n",
       "      <td>Inspection, Routine</td>\n",
       "      <td>1025</td>\n",
       "      <td>Restaurant (0 - 100 seats)</td>\n",
       "      <td>Med Risk (3)</td>\n",
       "      <td>Food - Restaurants</td>\n",
       "      <td>Douglas</td>\n",
       "      <td>Tri-County Health Department</td>\n",
       "      <td>...</td>\n",
       "      <td>0</td>\n",
       "      <td>0</td>\n",
       "      <td>0</td>\n",
       "      <td>0</td>\n",
       "      <td>0</td>\n",
       "      <td>0</td>\n",
       "      <td>0</td>\n",
       "      <td>1</td>\n",
       "      <td>0</td>\n",
       "      <td>7</td>\n",
       "    </tr>\n",
       "  </tbody>\n",
       "</table>\n",
       "<p>5 rows × 76 columns</p>\n",
       "</div>"
      ],
      "text/plain": [
       "  facility_id  record_id serial_number         service_desc    pe  \\\n",
       "0   FA0009996  PR0011864     DAYR2RKBT  Inspection, Routine  1045   \n",
       "1   FA0011070  PR0012733     DANHOPAEL  Inspection, Routine  1007   \n",
       "2   FA0010971  PR0012573     DAFZVKMMB  Inspection, Routine  1007   \n",
       "3   FA0008454  PR0011453     DAA6ICOWD  Inspection, Routine  1045   \n",
       "4   FA0003507  PR0010770     DATCQ0VC0  Inspection, Routine  1025   \n",
       "\n",
       "                                     pe_desc risk_category  \\\n",
       "0               Restaurant (101 - 200 seats)  Med Risk (3)   \n",
       "1  Limited Food Service (convenience, other)  Low Risk (2)   \n",
       "2  Limited Food Service (convenience, other)  Low Risk (2)   \n",
       "3               Restaurant (101 - 200 seats)  Med Risk (3)   \n",
       "4                 Restaurant (0 - 100 seats)  Med Risk (3)   \n",
       "\n",
       "          description    county                        agency  ... FC48 FC49  \\\n",
       "0  Food - Restaurants  Arapahoe  Tri-County Health Department  ...    0    1   \n",
       "1  Food - Restaurants  Arapahoe  Tri-County Health Department  ...    0    0   \n",
       "2  Food - Restaurants  Arapahoe  Tri-County Health Department  ...    0    0   \n",
       "3  Food - Restaurants  Arapahoe  Tri-County Health Department  ...    0    0   \n",
       "4  Food - Restaurants   Douglas  Tri-County Health Department  ...    0    0   \n",
       "\n",
       "  FC50 FC51 FC52 FC53 FC54 FC55  FC56  good_retail_practices_violations  \n",
       "0    0    1    0    0    0    0     0                                 4  \n",
       "1    0    1    0    0    0    0     0                                 1  \n",
       "2    0    0    0    0    0    0     0                                 0  \n",
       "3    0    0    0    0    0    0     0                                 1  \n",
       "4    0    0    0    0    0    1     0                                 7  \n",
       "\n",
       "[5 rows x 76 columns]"
      ]
     },
     "execution_count": 3,
     "metadata": {},
     "output_type": "execute_result"
    }
   ],
   "source": [
    "# Clean data\n",
    "df = restaurants.fillna(\"0\")\n",
    "df.head()"
   ]
  },
  {
   "cell_type": "code",
   "execution_count": 4,
   "metadata": {},
   "outputs": [
    {
     "data": {
      "text/plain": [
       "3946"
      ]
     },
     "execution_count": 4,
     "metadata": {},
     "output_type": "execute_result"
    }
   ],
   "source": [
    "# Total Facility IDs\n",
    "total_facilities = df[\"facility_id\"].nunique()\n",
    "total_facilities"
   ]
  },
  {
   "cell_type": "code",
   "execution_count": 5,
   "metadata": {},
   "outputs": [
    {
     "data": {
      "text/html": [
       "<div>\n",
       "<style scoped>\n",
       "    .dataframe tbody tr th:only-of-type {\n",
       "        vertical-align: middle;\n",
       "    }\n",
       "\n",
       "    .dataframe tbody tr th {\n",
       "        vertical-align: top;\n",
       "    }\n",
       "\n",
       "    .dataframe thead th {\n",
       "        text-align: right;\n",
       "    }\n",
       "</style>\n",
       "<table border=\"1\" class=\"dataframe\">\n",
       "  <thead>\n",
       "    <tr style=\"text-align: right;\">\n",
       "      <th></th>\n",
       "      <th>facility_id</th>\n",
       "      <th>record_id</th>\n",
       "      <th>serial_number</th>\n",
       "      <th>service_desc</th>\n",
       "      <th>pe</th>\n",
       "      <th>pe_desc</th>\n",
       "      <th>risk_category</th>\n",
       "      <th>description</th>\n",
       "      <th>county</th>\n",
       "      <th>agency</th>\n",
       "      <th>...</th>\n",
       "      <th>FC48</th>\n",
       "      <th>FC49</th>\n",
       "      <th>FC50</th>\n",
       "      <th>FC51</th>\n",
       "      <th>FC52</th>\n",
       "      <th>FC53</th>\n",
       "      <th>FC54</th>\n",
       "      <th>FC55</th>\n",
       "      <th>FC56</th>\n",
       "      <th>good_retail_practices_violations</th>\n",
       "    </tr>\n",
       "  </thead>\n",
       "  <tbody>\n",
       "    <tr>\n",
       "      <th>1</th>\n",
       "      <td>FA0011070</td>\n",
       "      <td>PR0012733</td>\n",
       "      <td>DANHOPAEL</td>\n",
       "      <td>Inspection, Routine</td>\n",
       "      <td>1007</td>\n",
       "      <td>Limited Food Service (convenience, other)</td>\n",
       "      <td>Low Risk (2)</td>\n",
       "      <td>Food - Restaurants</td>\n",
       "      <td>Arapahoe</td>\n",
       "      <td>Tri-County Health Department</td>\n",
       "      <td>...</td>\n",
       "      <td>0</td>\n",
       "      <td>0</td>\n",
       "      <td>0</td>\n",
       "      <td>1</td>\n",
       "      <td>0</td>\n",
       "      <td>0</td>\n",
       "      <td>0</td>\n",
       "      <td>0</td>\n",
       "      <td>0</td>\n",
       "      <td>1</td>\n",
       "    </tr>\n",
       "    <tr>\n",
       "      <th>2</th>\n",
       "      <td>FA0010971</td>\n",
       "      <td>PR0012573</td>\n",
       "      <td>DAFZVKMMB</td>\n",
       "      <td>Inspection, Routine</td>\n",
       "      <td>1007</td>\n",
       "      <td>Limited Food Service (convenience, other)</td>\n",
       "      <td>Low Risk (2)</td>\n",
       "      <td>Food - Restaurants</td>\n",
       "      <td>Arapahoe</td>\n",
       "      <td>Tri-County Health Department</td>\n",
       "      <td>...</td>\n",
       "      <td>0</td>\n",
       "      <td>0</td>\n",
       "      <td>0</td>\n",
       "      <td>0</td>\n",
       "      <td>0</td>\n",
       "      <td>0</td>\n",
       "      <td>0</td>\n",
       "      <td>0</td>\n",
       "      <td>0</td>\n",
       "      <td>0</td>\n",
       "    </tr>\n",
       "    <tr>\n",
       "      <th>5</th>\n",
       "      <td>FA0010794</td>\n",
       "      <td>PR0012294</td>\n",
       "      <td>DAPVP0EVJ</td>\n",
       "      <td>Inspection, Routine</td>\n",
       "      <td>1007</td>\n",
       "      <td>Limited Food Service (convenience, other)</td>\n",
       "      <td>Low Risk (2)</td>\n",
       "      <td>Food - Grocery</td>\n",
       "      <td>Arapahoe</td>\n",
       "      <td>Tri-County Health Department</td>\n",
       "      <td>...</td>\n",
       "      <td>0</td>\n",
       "      <td>0</td>\n",
       "      <td>0</td>\n",
       "      <td>1</td>\n",
       "      <td>0</td>\n",
       "      <td>0</td>\n",
       "      <td>0</td>\n",
       "      <td>0</td>\n",
       "      <td>0</td>\n",
       "      <td>1</td>\n",
       "    </tr>\n",
       "    <tr>\n",
       "      <th>6</th>\n",
       "      <td>FA0009996</td>\n",
       "      <td>PR0011864</td>\n",
       "      <td>DAK7PEH1S</td>\n",
       "      <td>Inspection, Routine</td>\n",
       "      <td>1045</td>\n",
       "      <td>Restaurant (101 - 200 seats)</td>\n",
       "      <td>Med Risk (3)</td>\n",
       "      <td>Food - Restaurants</td>\n",
       "      <td>Arapahoe</td>\n",
       "      <td>Tri-County Health Department</td>\n",
       "      <td>...</td>\n",
       "      <td>0</td>\n",
       "      <td>1</td>\n",
       "      <td>0</td>\n",
       "      <td>0</td>\n",
       "      <td>0</td>\n",
       "      <td>0</td>\n",
       "      <td>1</td>\n",
       "      <td>1</td>\n",
       "      <td>0</td>\n",
       "      <td>5</td>\n",
       "    </tr>\n",
       "    <tr>\n",
       "      <th>8</th>\n",
       "      <td>FA0002354</td>\n",
       "      <td>PR0012095</td>\n",
       "      <td>DA0JU6EXD</td>\n",
       "      <td>Inspection, Routine</td>\n",
       "      <td>1007</td>\n",
       "      <td>Limited Food Service (convenience, other)</td>\n",
       "      <td>Very Low Risk (1)</td>\n",
       "      <td>Food - Grocery</td>\n",
       "      <td>Arapahoe</td>\n",
       "      <td>Tri-County Health Department</td>\n",
       "      <td>...</td>\n",
       "      <td>0</td>\n",
       "      <td>0</td>\n",
       "      <td>0</td>\n",
       "      <td>0</td>\n",
       "      <td>0</td>\n",
       "      <td>0</td>\n",
       "      <td>0</td>\n",
       "      <td>0</td>\n",
       "      <td>0</td>\n",
       "      <td>0</td>\n",
       "    </tr>\n",
       "  </tbody>\n",
       "</table>\n",
       "<p>5 rows × 76 columns</p>\n",
       "</div>"
      ],
      "text/plain": [
       "  facility_id  record_id serial_number         service_desc    pe  \\\n",
       "1   FA0011070  PR0012733     DANHOPAEL  Inspection, Routine  1007   \n",
       "2   FA0010971  PR0012573     DAFZVKMMB  Inspection, Routine  1007   \n",
       "5   FA0010794  PR0012294     DAPVP0EVJ  Inspection, Routine  1007   \n",
       "6   FA0009996  PR0011864     DAK7PEH1S  Inspection, Routine  1045   \n",
       "8   FA0002354  PR0012095     DA0JU6EXD  Inspection, Routine  1007   \n",
       "\n",
       "                                     pe_desc      risk_category  \\\n",
       "1  Limited Food Service (convenience, other)       Low Risk (2)   \n",
       "2  Limited Food Service (convenience, other)       Low Risk (2)   \n",
       "5  Limited Food Service (convenience, other)       Low Risk (2)   \n",
       "6               Restaurant (101 - 200 seats)       Med Risk (3)   \n",
       "8  Limited Food Service (convenience, other)  Very Low Risk (1)   \n",
       "\n",
       "          description    county                        agency  ... FC48 FC49  \\\n",
       "1  Food - Restaurants  Arapahoe  Tri-County Health Department  ...    0    0   \n",
       "2  Food - Restaurants  Arapahoe  Tri-County Health Department  ...    0    0   \n",
       "5      Food - Grocery  Arapahoe  Tri-County Health Department  ...    0    0   \n",
       "6  Food - Restaurants  Arapahoe  Tri-County Health Department  ...    0    1   \n",
       "8      Food - Grocery  Arapahoe  Tri-County Health Department  ...    0    0   \n",
       "\n",
       "  FC50 FC51 FC52 FC53 FC54 FC55  FC56  good_retail_practices_violations  \n",
       "1    0    1    0    0    0    0     0                                 1  \n",
       "2    0    0    0    0    0    0     0                                 0  \n",
       "5    0    1    0    0    0    0     0                                 1  \n",
       "6    0    0    0    0    1    1     0                                 5  \n",
       "8    0    0    0    0    0    0     0                                 0  \n",
       "\n",
       "[5 rows x 76 columns]"
      ]
     },
     "execution_count": 5,
     "metadata": {},
     "output_type": "execute_result"
    }
   ],
   "source": [
    "# Remove Duplicates for most recent data\n",
    "df_clean = df.drop_duplicates('facility_id', keep='last')\n",
    "df_clean.head()"
   ]
  },
  {
   "cell_type": "code",
   "execution_count": 6,
   "metadata": {},
   "outputs": [
    {
     "data": {
      "text/plain": [
       "loc_description\n",
       "Restaurant (0 - 100 seats)                     1867\n",
       "Restaurant (101 - 200 seats)                    514\n",
       "Limited Food Service (convenience, other)       505\n",
       "No fee license (K-12 schools, non-profit)       409\n",
       "Restaurant (>200 seats)                         275\n",
       "Grocery Store w/ Deli (0 - 15,000 sq. ft.)      130\n",
       "Grocery Store w/ Deli (>15,000 sq. ft.)         127\n",
       "Grocery Store (0 - 15,000 sq. ft.)              103\n",
       "Grocery Store (>15,000 sq. ft.)                  15\n",
       "Change of Owner (Initial Inspection) - Food       1\n",
       "Name: pe_desc, dtype: int64"
      ]
     },
     "execution_count": 6,
     "metadata": {},
     "output_type": "execute_result"
    }
   ],
   "source": [
    "# Categorical Breakdown\n",
    "pe_inspections = df_clean['pe_desc'].value_counts()\n",
    "pe_inspections.index.name = 'loc_description'\n",
    "pe_inspections.to_csv('pe_description.csv')\n",
    "pe_inspections"
   ]
  },
  {
   "cell_type": "code",
   "execution_count": 7,
   "metadata": {
    "scrolled": true
   },
   "outputs": [
    {
     "data": {
      "text/plain": [
       "risk_category      pe_desc                                    \n",
       "High Risk (4)      Grocery Store w/ Deli (0 - 15,000 sq. ft.)        9\n",
       "                   Grocery Store w/ Deli (>15,000 sq. ft.)           5\n",
       "                   No fee license (K-12 schools, non-profit)         5\n",
       "                   Restaurant (0 - 100 seats)                       53\n",
       "                   Restaurant (101 - 200 seats)                     29\n",
       "                   Restaurant (>200 seats)                          37\n",
       "Low Risk (2)       Grocery Store (0 - 15,000 sq. ft.)               17\n",
       "                   Grocery Store w/ Deli (0 - 15,000 sq. ft.)       14\n",
       "                   Limited Food Service (convenience, other)       158\n",
       "                   No fee license (K-12 schools, non-profit)        21\n",
       "                   Restaurant (0 - 100 seats)                      199\n",
       "                   Restaurant (101 - 200 seats)                      8\n",
       "                   Restaurant (>200 seats)                           1\n",
       "Med Risk (3)       Change of Owner (Initial Inspection) - Food       1\n",
       "                   Grocery Store (0 - 15,000 sq. ft.)               20\n",
       "                   Grocery Store (>15,000 sq. ft.)                   5\n",
       "                   Grocery Store w/ Deli (0 - 15,000 sq. ft.)      102\n",
       "                   Grocery Store w/ Deli (>15,000 sq. ft.)         122\n",
       "                   Limited Food Service (convenience, other)        30\n",
       "                   No fee license (K-12 schools, non-profit)       369\n",
       "                   Restaurant (0 - 100 seats)                     1573\n",
       "                   Restaurant (101 - 200 seats)                    473\n",
       "                   Restaurant (>200 seats)                         235\n",
       "Very Low Risk (1)  Grocery Store (0 - 15,000 sq. ft.)               66\n",
       "                   Grocery Store (>15,000 sq. ft.)                  10\n",
       "                   Grocery Store w/ Deli (0 - 15,000 sq. ft.)        5\n",
       "                   Limited Food Service (convenience, other)       317\n",
       "                   No fee license (K-12 schools, non-profit)        14\n",
       "                   Restaurant (0 - 100 seats)                       42\n",
       "                   Restaurant (101 - 200 seats)                      4\n",
       "                   Restaurant (>200 seats)                           2\n",
       "Name: program_id, dtype: int64"
      ]
     },
     "execution_count": 7,
     "metadata": {},
     "output_type": "execute_result"
    }
   ],
   "source": [
    "# Group by and filter by Restaurant size, Risk factor\n",
    "restaurant_risk = df_clean.groupby([\"risk_category\", \"pe_desc\"])['program_id'].count()\n",
    "restaurant_risk.to_csv('risk.csv')\n",
    "restaurant_risk"
   ]
  },
  {
   "cell_type": "code",
   "execution_count": 8,
   "metadata": {},
   "outputs": [
    {
     "data": {
      "text/plain": [
       "county    city                \n",
       "Adams     Arvada                   18\n",
       "          Aurora                   95\n",
       "          Bennett                  10\n",
       "          Brighton                145\n",
       "          Broomfield                2\n",
       "          Byers                     1\n",
       "          Commerce City           134\n",
       "          Denver                  124\n",
       "          Eastlake                  2\n",
       "          Federal Heights          50\n",
       "          Henderson                17\n",
       "          Northglenn               97\n",
       "          Strasburg                 6\n",
       "          Thornton                321\n",
       "          Watkins                   4\n",
       "          Westminster             250\n",
       "Arapahoe  Aurora                  872\n",
       "          Bennett                   2\n",
       "          Byers                     2\n",
       "          Centennial              213\n",
       "          Cherry Hills Village      6\n",
       "          Columbine Valley          1\n",
       "          Deer Trail                2\n",
       "          Denver                   46\n",
       "          Englewood               212\n",
       "          Foxfield                  5\n",
       "          Glendale                 57\n",
       "          Greenwood Village       170\n",
       "          Highlands Ranch           4\n",
       "          Littleton               212\n",
       "          Lone Tree                 3\n",
       "          Parker                    5\n",
       "          Sheridan                 37\n",
       "          Strasburg                 2\n",
       "          Watkins                   2\n",
       "Douglas   Castle Pines             11\n",
       "          Castle Rock             210\n",
       "          Deckers                   1\n",
       "          Englewood                28\n",
       "          Franktown                 6\n",
       "          Highlands Ranch         177\n",
       "          Larkspur                 13\n",
       "          Littleton                44\n",
       "          Lone Tree               107\n",
       "          Parker                  212\n",
       "          Sedalia                   8\n",
       "Name: program_id, dtype: int64"
      ]
     },
     "execution_count": 8,
     "metadata": {},
     "output_type": "execute_result"
    }
   ],
   "source": [
    "# Group by county, city\n",
    "geographic_df = df_clean.groupby([\"county\", \"city\"])['program_id'].count()\n",
    "geographic_df.to_csv('geographic.csv')\n",
    "geographic_df"
   ]
  },
  {
   "cell_type": "code",
   "execution_count": 9,
   "metadata": {},
   "outputs": [
    {
     "name": "stderr",
     "output_type": "stream",
     "text": [
      "<ipython-input-9-8c24f17902d3>:3: FutureWarning: Indexing with multiple keys (implicitly converted to a tuple of keys) will be deprecated, use a list instead.\n",
      "  violations = df_clean.groupby([\"program_id\", \"county\", \"site_address\"])\\\n"
     ]
    },
    {
     "data": {
      "text/html": [
       "<div>\n",
       "<style scoped>\n",
       "    .dataframe tbody tr th:only-of-type {\n",
       "        vertical-align: middle;\n",
       "    }\n",
       "\n",
       "    .dataframe tbody tr th {\n",
       "        vertical-align: top;\n",
       "    }\n",
       "\n",
       "    .dataframe thead th {\n",
       "        text-align: right;\n",
       "    }\n",
       "</style>\n",
       "<table border=\"1\" class=\"dataframe\">\n",
       "  <thead>\n",
       "    <tr style=\"text-align: right;\">\n",
       "      <th></th>\n",
       "      <th></th>\n",
       "      <th></th>\n",
       "      <th>foodborne_illness_violations</th>\n",
       "      <th>good_retail_practices_violations</th>\n",
       "      <th>total_violations</th>\n",
       "      <th>inspScore</th>\n",
       "    </tr>\n",
       "    <tr>\n",
       "      <th>program_id</th>\n",
       "      <th>county</th>\n",
       "      <th>site_address</th>\n",
       "      <th></th>\n",
       "      <th></th>\n",
       "      <th></th>\n",
       "      <th></th>\n",
       "    </tr>\n",
       "  </thead>\n",
       "  <tbody>\n",
       "    <tr>\n",
       "      <th>1 UP Greenwood Village</th>\n",
       "      <th>Arapahoe</th>\n",
       "      <th>6864 S Clinton Ct</th>\n",
       "      <td>2</td>\n",
       "      <td>6</td>\n",
       "      <td>8</td>\n",
       "      <td>48</td>\n",
       "    </tr>\n",
       "    <tr>\n",
       "      <th>123 Pho</th>\n",
       "      <th>Douglas</th>\n",
       "      <th>11804 E Oswego St Unit C</th>\n",
       "      <td>4</td>\n",
       "      <td>4</td>\n",
       "      <td>8</td>\n",
       "      <td>48</td>\n",
       "    </tr>\n",
       "    <tr>\n",
       "      <th>125 Chinese Restaurant</th>\n",
       "      <th>Adams</th>\n",
       "      <th>10255 Washington St</th>\n",
       "      <td>3</td>\n",
       "      <td>6</td>\n",
       "      <td>9</td>\n",
       "      <td>47</td>\n",
       "    </tr>\n",
       "    <tr>\n",
       "      <th>135 Scoop</th>\n",
       "      <th>Arapahoe</th>\n",
       "      <th>3494 S Federal Blvd</th>\n",
       "      <td>7</td>\n",
       "      <td>8</td>\n",
       "      <td>15</td>\n",
       "      <td>41</td>\n",
       "    </tr>\n",
       "    <tr>\n",
       "      <th>20 Mile Tap House</th>\n",
       "      <th>Douglas</th>\n",
       "      <th>12543 N Highway 83</th>\n",
       "      <td>1</td>\n",
       "      <td>4</td>\n",
       "      <td>5</td>\n",
       "      <td>51</td>\n",
       "    </tr>\n",
       "    <tr>\n",
       "      <th>212 Pizza Co</th>\n",
       "      <th>Douglas</th>\n",
       "      <th>848 N Ridge Rd Unit F</th>\n",
       "      <td>2</td>\n",
       "      <td>0</td>\n",
       "      <td>2</td>\n",
       "      <td>54</td>\n",
       "    </tr>\n",
       "    <tr>\n",
       "      <th rowspan=\"4\" valign=\"top\">3 Margaritas</th>\n",
       "      <th rowspan=\"3\" valign=\"top\">Adams</th>\n",
       "      <th>14697 Delaware St Unit 800</th>\n",
       "      <td>3</td>\n",
       "      <td>4</td>\n",
       "      <td>7</td>\n",
       "      <td>49</td>\n",
       "    </tr>\n",
       "    <tr>\n",
       "      <th>3202 E 104th Ave</th>\n",
       "      <td>12</td>\n",
       "      <td>9</td>\n",
       "      <td>21</td>\n",
       "      <td>35</td>\n",
       "    </tr>\n",
       "    <tr>\n",
       "      <th>530 E Bromley Ln Unit 125</th>\n",
       "      <td>4</td>\n",
       "      <td>8</td>\n",
       "      <td>12</td>\n",
       "      <td>44</td>\n",
       "    </tr>\n",
       "    <tr>\n",
       "      <th>Arapahoe</th>\n",
       "      <th>25791 E Smoky Hill Rd Ste 100</th>\n",
       "      <td>2</td>\n",
       "      <td>5</td>\n",
       "      <td>7</td>\n",
       "      <td>49</td>\n",
       "    </tr>\n",
       "  </tbody>\n",
       "</table>\n",
       "</div>"
      ],
      "text/plain": [
       "                                                               foodborne_illness_violations  \\\n",
       "program_id             county   site_address                                                  \n",
       "1 UP Greenwood Village Arapahoe 6864 S Clinton Ct                                         2   \n",
       "123 Pho                Douglas  11804 E Oswego St Unit C                                  4   \n",
       "125 Chinese Restaurant Adams    10255 Washington St                                       3   \n",
       "135 Scoop              Arapahoe 3494 S Federal Blvd                                       7   \n",
       "20 Mile Tap House      Douglas  12543 N Highway 83                                        1   \n",
       "212 Pizza Co           Douglas  848 N Ridge Rd Unit F                                     2   \n",
       "3 Margaritas           Adams    14697 Delaware St Unit 800                                3   \n",
       "                                3202 E 104th Ave                                         12   \n",
       "                                530 E Bromley Ln Unit 125                                 4   \n",
       "                       Arapahoe 25791 E Smoky Hill Rd Ste 100                             2   \n",
       "\n",
       "                                                               good_retail_practices_violations  \\\n",
       "program_id             county   site_address                                                      \n",
       "1 UP Greenwood Village Arapahoe 6864 S Clinton Ct                                             6   \n",
       "123 Pho                Douglas  11804 E Oswego St Unit C                                      4   \n",
       "125 Chinese Restaurant Adams    10255 Washington St                                           6   \n",
       "135 Scoop              Arapahoe 3494 S Federal Blvd                                           8   \n",
       "20 Mile Tap House      Douglas  12543 N Highway 83                                            4   \n",
       "212 Pizza Co           Douglas  848 N Ridge Rd Unit F                                         0   \n",
       "3 Margaritas           Adams    14697 Delaware St Unit 800                                    4   \n",
       "                                3202 E 104th Ave                                              9   \n",
       "                                530 E Bromley Ln Unit 125                                     8   \n",
       "                       Arapahoe 25791 E Smoky Hill Rd Ste 100                                 5   \n",
       "\n",
       "                                                               total_violations  \\\n",
       "program_id             county   site_address                                      \n",
       "1 UP Greenwood Village Arapahoe 6864 S Clinton Ct                             8   \n",
       "123 Pho                Douglas  11804 E Oswego St Unit C                      8   \n",
       "125 Chinese Restaurant Adams    10255 Washington St                           9   \n",
       "135 Scoop              Arapahoe 3494 S Federal Blvd                          15   \n",
       "20 Mile Tap House      Douglas  12543 N Highway 83                            5   \n",
       "212 Pizza Co           Douglas  848 N Ridge Rd Unit F                         2   \n",
       "3 Margaritas           Adams    14697 Delaware St Unit 800                    7   \n",
       "                                3202 E 104th Ave                             21   \n",
       "                                530 E Bromley Ln Unit 125                    12   \n",
       "                       Arapahoe 25791 E Smoky Hill Rd Ste 100                 7   \n",
       "\n",
       "                                                               inspScore  \n",
       "program_id             county   site_address                              \n",
       "1 UP Greenwood Village Arapahoe 6864 S Clinton Ct                     48  \n",
       "123 Pho                Douglas  11804 E Oswego St Unit C              48  \n",
       "125 Chinese Restaurant Adams    10255 Washington St                   47  \n",
       "135 Scoop              Arapahoe 3494 S Federal Blvd                   41  \n",
       "20 Mile Tap House      Douglas  12543 N Highway 83                    51  \n",
       "212 Pizza Co           Douglas  848 N Ridge Rd Unit F                 54  \n",
       "3 Margaritas           Adams    14697 Delaware St Unit 800            49  \n",
       "                                3202 E 104th Ave                      35  \n",
       "                                530 E Bromley Ln Unit 125             44  \n",
       "                       Arapahoe 25791 E Smoky Hill Rd Ste 100         49  "
      ]
     },
     "execution_count": 9,
     "metadata": {},
     "output_type": "execute_result"
    }
   ],
   "source": [
    "# Number of each location's \"Total Foodborne Illness Risk Violations\" &\n",
    "# Number of each location's \"Total Good Retail Practices Violations\"\n",
    "violations = df_clean.groupby([\"program_id\", \"county\", \"site_address\"])\\\n",
    "[\"foodborne_illness_violations\", \"good_retail_practices_violations\"].sum()\n",
    "\n",
    "violations.loc[:,'total_violations'] = violations['foodborne_illness_violations'] + \\\n",
    "                                       violations['good_retail_practices_violations']\n",
    "\n",
    "# Form new columns: total_violations & inspScore\n",
    "violations['total_violations'] = violations['foodborne_illness_violations'] + violations['good_retail_practices_violations']\n",
    "violations.loc[:,'inspScore'] = 56-violations['total_violations']\n",
    "\n",
    "violations.to_csv('violations.csv')\n",
    "violations.head(10)"
   ]
  },
  {
   "cell_type": "code",
   "execution_count": 10,
   "metadata": {},
   "outputs": [
    {
     "data": {
      "text/plain": [
       "program_id              county    site_address                 \n",
       "1 UP Greenwood Village  Arapahoe  6864 S Clinton Ct                 8\n",
       "123 Pho                 Douglas   11804 E Oswego St Unit C          8\n",
       "125 Chinese Restaurant  Adams     10255 Washington St               9\n",
       "135 Scoop               Arapahoe  3494 S Federal Blvd              15\n",
       "20 Mile Tap House       Douglas   12543 N Highway 83                5\n",
       "212 Pizza Co            Douglas   848 N Ridge Rd Unit F             2\n",
       "3 Margaritas            Adams     14697 Delaware St Unit 800        7\n",
       "                                  3202 E 104th Ave                 21\n",
       "                                  530 E Bromley Ln Unit 125        12\n",
       "                        Arapahoe  25791 E Smoky Hill Rd Ste 100     7\n",
       "Name: total_violations, dtype: int64"
      ]
     },
     "execution_count": 10,
     "metadata": {},
     "output_type": "execute_result"
    }
   ],
   "source": [
    "# Are programs with multiple locations violating at all places?\n",
    "programs_df = violations.groupby([\"program_id\", \"county\", \"site_address\"])[\"total_violations\"].sum()\n",
    "programs_df.to_csv('programs.csv')\n",
    "programs_df.head(10)"
   ]
  },
  {
   "cell_type": "code",
   "execution_count": 11,
   "metadata": {},
   "outputs": [
    {
     "name": "stdout",
     "output_type": "stream",
     "text": [
      "county\n",
      "Adams       3576\n",
      "Arapahoe    5309\n",
      "Douglas     1819\n",
      "Name: foodborne_illness_violations, dtype: int64 county\n",
      "Adams       4431\n",
      "Arapahoe    5517\n",
      "Douglas     2863\n",
      "Name: good_retail_practices_violations, dtype: int64\n"
     ]
    },
    {
     "data": {
      "image/png": "[encoded data removed]",
      "text/plain": [
       "<Figure size 720x360 with 1 Axes>"
      ]
     },
     "metadata": {
      "needs_background": "light"
     },
     "output_type": "display_data"
    },
    {
     "name": "stdout",
     "output_type": "stream",
     "text": [
      "county\n",
      "Adams        8007\n",
      "Arapahoe    10826\n",
      "Douglas      4682\n",
      "dtype: int64\n"
     ]
    }
   ],
   "source": [
    "# Barchart of county violations issued\n",
    "\n",
    "foodborne = violations.groupby([\"county\"])[\"foodborne_illness_violations\"].sum()\n",
    "retail = violations.groupby([\"county\"])[\"good_retail_practices_violations\"].sum()\n",
    "food_retail = foodborne + retail\n",
    "print(foodborne, retail)\n",
    "\n",
    "fig = plt.figure(figsize=(10,5))\n",
    "index = ['Adams', 'Arapahoe', 'Douglas']\n",
    "data1 = [3576,5309,1819]\n",
    "data2 = [4431,5517,2863]\n",
    "width = 0.3\n",
    "plt.xticks(range(len(data1)), index)\n",
    "plt.xlabel('County')\n",
    "plt.ylabel('Violations Issued')\n",
    "plt.title('Violations Issued per County')\n",
    "plt.bar(np.arange(len(data1)), data1, width=width)\n",
    "plt.bar(np.arange(len(data2))+ width, data2, width=width)\n",
    "plt.show()\n",
    "fig.savefig('barplot.jpg', bbox_inches='tight', dpi=150)\n",
    "print(food_retail)"
   ]
  },
  {
   "cell_type": "code",
   "execution_count": 12,
   "metadata": {},
   "outputs": [
    {
     "name": "stdout",
     "output_type": "stream",
     "text": [
      "                           Category  Total Violations Issued\n",
      "0      foodborne_illness_violations                    10704\n",
      "1  good_retail_practices_violations                    12811\n"
     ]
    }
   ],
   "source": [
    "foodborne = violations[\"foodborne_illness_violations\"].sum()\n",
    "retail = violations[\"good_retail_practices_violations\"].sum()\n",
    "\n",
    "data2 = {'Category':  ['foodborne_illness_violations', 'good_retail_practices_violations'],\n",
    "        'Total Violations Issued': [10704,12811]}\n",
    "total_violations = pd.DataFrame (data2, columns = ['Category','Total Violations Issued'])\n",
    "print(total_violations)"
   ]
  },
  {
   "cell_type": "code",
   "execution_count": 13,
   "metadata": {
    "scrolled": true
   },
   "outputs": [
    {
     "name": "stdout",
     "output_type": "stream",
     "text": [
      "county\n",
      "Adams       1276\n",
      "Arapahoe    1853\n",
      "Douglas      817\n",
      "Name: program_id, dtype: int64\n"
     ]
    },
    {
     "data": {
      "image/png": "[encoded data removed]",
      "text/plain": [
       "<Figure size 504x504 with 1 Axes>"
      ]
     },
     "metadata": {},
     "output_type": "display_data"
    }
   ],
   "source": [
    "# Percentage of Locations Violations, by County\n",
    "county_location_violations = df_clean.groupby([\"county\"])['program_id'].count()\n",
    "print(county_location_violations)\n",
    "\n",
    "county_location_violations.to_csv('county_location_violations.csv')\n",
    "\n",
    "county_location_violations= pd.DataFrame({'Violations': [1276, 1853, 817]},\n",
    "                              index=['Adams', 'Arapahoe', 'Douglas'])\n",
    "\n",
    "plot = county_location_violations.plot.pie(y='Violations', autopct='%1.1f%%', shadow=True, figsize=(7,7))"
   ]
  },
  {
   "cell_type": "code",
   "execution_count": 14,
   "metadata": {},
   "outputs": [],
   "source": [
    "# **WHAT CAN BE USED TO CALL THE DATA FROM CDPHE DATABASE\n",
    "# FOR VERIFICATION OF CHECK?**"
   ]
  },
  {
   "cell_type": "markdown",
   "metadata": {},
   "source": [
    "# Connect to SQL/SQLite"
   ]
  },
  {
   "cell_type": "code",
   "execution_count": 15,
   "metadata": {},
   "outputs": [],
   "source": [
    "import sqlalchemy\n",
    "from sqlalchemy.ext.automap import automap_base\n",
    "from sqlalchemy.orm import Session\n",
    "from sqlalchemy import create_engine, inspect, func\n",
    "import sqlite3\n",
    "import re"
   ]
  },
  {
   "cell_type": "code",
   "execution_count": 16,
   "metadata": {},
   "outputs": [],
   "source": [
    "# Create Engine\n",
    "engine = create_engine('sqlite:///../tricounty.sqlite', echo=False)"
   ]
  },
  {
   "cell_type": "code",
   "execution_count": 17,
   "metadata": {},
   "outputs": [],
   "source": [
    "# Save the Geographic data into sqlite\n",
    "geographic_df.to_sql('geographic', con=engine, if_exists='replace')"
   ]
  },
  {
   "cell_type": "code",
   "execution_count": 18,
   "metadata": {},
   "outputs": [],
   "source": [
    "# Save the peDescription data into sqlite\n",
    "pe_inspections.to_sql('pe_description', con=engine, if_exists='replace')"
   ]
  },
  {
   "cell_type": "code",
   "execution_count": 19,
   "metadata": {},
   "outputs": [],
   "source": [
    "# Save the Programs data into sqlite\n",
    "programs_df.to_sql('programs', con=engine, if_exists='replace')"
   ]
  },
  {
   "cell_type": "code",
   "execution_count": 20,
   "metadata": {},
   "outputs": [],
   "source": [
    "# Save the Risk data into sqlite\n",
    "restaurant_risk.to_sql('risk', con=engine, if_exists='replace')"
   ]
  },
  {
   "cell_type": "code",
   "execution_count": 21,
   "metadata": {},
   "outputs": [],
   "source": [
    "# Save the Violations data into sqlite\n",
    "violations.to_sql('violations', con=engine, if_exists='replace')"
   ]
  },
  {
   "cell_type": "code",
   "execution_count": 22,
   "metadata": {},
   "outputs": [
    {
     "data": {
      "text/plain": [
       "['geographic', 'pe_description', 'programs', 'risk', 'violations']"
      ]
     },
     "execution_count": 22,
     "metadata": {},
     "output_type": "execute_result"
    }
   ],
   "source": [
    "# Use the Inspector to explore the database and check/confirm the table names\n",
    "inspector = inspect(engine)\n",
    "inspector.get_table_names()"
   ]
  },
  {
   "cell_type": "code",
   "execution_count": 23,
   "metadata": {},
   "outputs": [
    {
     "data": {
      "text/plain": [
       "[('Adams', 'Arvada', 18),\n",
       " ('Adams', 'Aurora', 95),\n",
       " ('Adams', 'Bennett', 10),\n",
       " ('Adams', 'Brighton', 145),\n",
       " ('Adams', 'Broomfield', 2),\n",
       " ('Adams', 'Byers', 1),\n",
       " ('Adams', 'Commerce City', 134),\n",
       " ('Adams', 'Denver', 124),\n",
       " ('Adams', 'Eastlake', 2),\n",
       " ('Adams', 'Federal Heights', 50)]"
      ]
     },
     "execution_count": 23,
     "metadata": {},
     "output_type": "execute_result"
    }
   ],
   "source": [
    "engine.execute(\"SELECT * FROM geographic LIMIT 10\").fetchall()"
   ]
  },
  {
   "cell_type": "code",
   "execution_count": 24,
   "metadata": {},
   "outputs": [
    {
     "data": {
      "text/plain": [
       "[('Restaurant (0 - 100 seats)', 1867),\n",
       " ('Restaurant (101 - 200 seats)', 514),\n",
       " ('Limited Food Service (convenience, other)', 505),\n",
       " ('No fee license (K-12 schools, non-profit)', 409),\n",
       " ('Restaurant (>200 seats)', 275),\n",
       " ('Grocery Store w/ Deli (0 - 15,000 sq. ft.)', 130),\n",
       " ('Grocery Store w/ Deli (>15,000 sq. ft.)', 127),\n",
       " ('Grocery Store (0 - 15,000 sq. ft.)', 103),\n",
       " ('Grocery Store (>15,000 sq. ft.)', 15),\n",
       " ('Change of Owner (Initial Inspection) - Food', 1)]"
      ]
     },
     "execution_count": 24,
     "metadata": {},
     "output_type": "execute_result"
    }
   ],
   "source": [
    "engine.execute(\"SELECT * FROM pe_description LIMIT 10\").fetchall()"
   ]
  },
  {
   "cell_type": "code",
   "execution_count": 25,
   "metadata": {},
   "outputs": [
    {
     "data": {
      "text/plain": [
       "[('1 UP Greenwood Village', 'Arapahoe', '6864 S Clinton Ct', 8),\n",
       " ('123 Pho', 'Douglas', '11804 E Oswego St Unit C', 8),\n",
       " ('125 Chinese Restaurant', 'Adams', '10255 Washington St', 9),\n",
       " ('135 Scoop', 'Arapahoe', '3494 S Federal Blvd', 15),\n",
       " ('20 Mile Tap House', 'Douglas', '12543 N Highway 83', 5),\n",
       " ('212 Pizza Co', 'Douglas', '848 N Ridge Rd Unit F', 2),\n",
       " ('3 Margaritas', 'Adams', '14697 Delaware St Unit 800', 7),\n",
       " ('3 Margaritas', 'Adams', '3202 E 104th Ave', 21),\n",
       " ('3 Margaritas', 'Adams', '530 E Bromley Ln Unit 125', 12),\n",
       " ('3 Margaritas', 'Arapahoe', '25791 E Smoky Hill Rd Ste 100', 7)]"
      ]
     },
     "execution_count": 25,
     "metadata": {},
     "output_type": "execute_result"
    }
   ],
   "source": [
    "engine.execute(\"SELECT * FROM programs LIMIT 10\").fetchall()"
   ]
  },
  {
   "cell_type": "code",
   "execution_count": 26,
   "metadata": {},
   "outputs": [
    {
     "data": {
      "text/plain": [
       "[('High Risk (4)', 'Grocery Store w/ Deli (0 - 15,000 sq. ft.)', 9),\n",
       " ('High Risk (4)', 'Grocery Store w/ Deli (>15,000 sq. ft.)', 5),\n",
       " ('High Risk (4)', 'No fee license (K-12 schools, non-profit)', 5),\n",
       " ('High Risk (4)', 'Restaurant (0 - 100 seats)', 53),\n",
       " ('High Risk (4)', 'Restaurant (101 - 200 seats)', 29),\n",
       " ('High Risk (4)', 'Restaurant (>200 seats)', 37),\n",
       " ('Low Risk (2)', 'Grocery Store (0 - 15,000 sq. ft.)', 17),\n",
       " ('Low Risk (2)', 'Grocery Store w/ Deli (0 - 15,000 sq. ft.)', 14),\n",
       " ('Low Risk (2)', 'Limited Food Service (convenience, other)', 158),\n",
       " ('Low Risk (2)', 'No fee license (K-12 schools, non-profit)', 21)]"
      ]
     },
     "execution_count": 26,
     "metadata": {},
     "output_type": "execute_result"
    }
   ],
   "source": [
    "engine.execute(\"SELECT * FROM risk LIMIT 10\").fetchall()"
   ]
  },
  {
   "cell_type": "code",
   "execution_count": 27,
   "metadata": {},
   "outputs": [
    {
     "data": {
      "text/plain": [
       "[('1 UP Greenwood Village', 'Arapahoe', '6864 S Clinton Ct', 2, 6, 8, 48),\n",
       " ('123 Pho', 'Douglas', '11804 E Oswego St Unit C', 4, 4, 8, 48),\n",
       " ('125 Chinese Restaurant', 'Adams', '10255 Washington St', 3, 6, 9, 47),\n",
       " ('135 Scoop', 'Arapahoe', '3494 S Federal Blvd', 7, 8, 15, 41),\n",
       " ('20 Mile Tap House', 'Douglas', '12543 N Highway 83', 1, 4, 5, 51),\n",
       " ('212 Pizza Co', 'Douglas', '848 N Ridge Rd Unit F', 2, 0, 2, 54),\n",
       " ('3 Margaritas', 'Adams', '14697 Delaware St Unit 800', 3, 4, 7, 49),\n",
       " ('3 Margaritas', 'Adams', '3202 E 104th Ave', 12, 9, 21, 35),\n",
       " ('3 Margaritas', 'Adams', '530 E Bromley Ln Unit 125', 4, 8, 12, 44),\n",
       " ('3 Margaritas', 'Arapahoe', '25791 E Smoky Hill Rd Ste 100', 2, 5, 7, 49)]"
      ]
     },
     "execution_count": 27,
     "metadata": {},
     "output_type": "execute_result"
    }
   ],
   "source": [
    "engine.execute(\"SELECT * FROM violations LIMIT 10\").fetchall()"
   ]
  },
  {
   "cell_type": "markdown",
   "metadata": {},
   "source": [
    "# Convert the index to primary keys"
   ]
  },
  {
   "cell_type": "code",
   "execution_count": 28,
   "metadata": {},
   "outputs": [],
   "source": [
    "# Source code = \"https://gist.github.com/RobinL/c27fef037cbd2b24c909d5275b01adfb\"\n",
    "\n",
    "def get_create_table_string(tablename, connection):\n",
    "    sql = \"\"\"\n",
    "    select * from sqlite_master where name = \"{}\" and type = \"table\"\n",
    "    \"\"\".format(tablename) \n",
    "    result = connection.execute(sql)\n",
    "\n",
    "    create_table_string = result.fetchmany()[0][4]\n",
    "    return create_table_string\n",
    "\n",
    "def add_pk_to_create_table_string(create_table_string, colname):\n",
    "    regex = \"(\\n.+{}[^,]+)(,)\".format(colname)\n",
    "    return re.sub(regex, \"\\\\1 PRIMARY KEY,\",  create_table_string, count=1)\n",
    "\n",
    "def add_pk_to_sqlite_table(tablename, index_column, connection):\n",
    "    cts = get_create_table_string(tablename, connection)\n",
    "    cts = add_pk_to_create_table_string(cts, index_column)\n",
    "    template = \"\"\"\n",
    "    BEGIN TRANSACTION;\n",
    "        ALTER TABLE {tablename} RENAME TO {tablename}_old_;\n",
    "\n",
    "        {cts};\n",
    "\n",
    "        INSERT INTO {tablename} SELECT * FROM {tablename}_old_;\n",
    "\n",
    "        DROP TABLE {tablename}_old_;\n",
    "\n",
    "    COMMIT TRANSACTION;\n",
    "    \"\"\"\n",
    "\n",
    "    create_and_drop_sql = template.format(tablename = tablename, cts = cts)\n",
    "    connection.executescript(create_and_drop_sql)"
   ]
  },
  {
   "cell_type": "code",
   "execution_count": 29,
   "metadata": {},
   "outputs": [],
   "source": [
    "# Connect to Tricounty database\n",
    "con = sqlite3.connect(\"../tricounty.sqlite\")"
   ]
  },
  {
   "cell_type": "code",
   "execution_count": 30,
   "metadata": {},
   "outputs": [],
   "source": [
    "# Add PK to Tables"
   ]
  },
  {
   "cell_type": "code",
   "execution_count": 31,
   "metadata": {},
   "outputs": [],
   "source": [
    "add_pk_to_sqlite_table('pe_description', 'loc_description', con)"
   ]
  },
  {
   "cell_type": "code",
   "execution_count": 32,
   "metadata": {},
   "outputs": [],
   "source": [
    "add_pk_to_sqlite_table('programs', 'index', con)"
   ]
  },
  {
   "cell_type": "code",
   "execution_count": 33,
   "metadata": {},
   "outputs": [],
   "source": [
    "add_pk_to_sqlite_table('risk', 'index', con)"
   ]
  }
 ],
 "metadata": {
  "kernelspec": {
   "display_name": "Python 3",
   "language": "python",
   "name": "python3"
  },
  "language_info": {
   "codemirror_mode": {
    "name": "ipython",
    "version": 3
   },
   "file_extension": ".py",
   "mimetype": "text/x-python",
   "name": "python",
   "nbconvert_exporter": "python",
   "pygments_lexer": "ipython3",
   "version": "3.8.5"
  }
 },
 "nbformat": 4,
 "nbformat_minor": 4
}

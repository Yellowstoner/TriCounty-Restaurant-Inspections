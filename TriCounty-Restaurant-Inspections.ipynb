{
 "cells": [
  {
   "cell_type": "code",
   "execution_count": 1,
   "metadata": {},
   "outputs": [],
   "source": [
    "# Dependencies\n",
    "import pandas as pd\n",
    "import matplotlib.pyplot as plt\n",
    "import numpy as np"
   ]
  },
  {
   "cell_type": "code",
   "execution_count": 2,
   "metadata": {},
   "outputs": [],
   "source": [
    "# Read CSV\n",
    "df = pd.read_csv(\"Restaurant_Inspections_in_Tri-County_Colorado.csv\")"
   ]
  },
  {
   "cell_type": "code",
   "execution_count": 3,
   "metadata": {},
   "outputs": [
    {
     "data": {
      "text/html": [
       "<div>\n",
       "<style scoped>\n",
       "    .dataframe tbody tr th:only-of-type {\n",
       "        vertical-align: middle;\n",
       "    }\n",
       "\n",
       "    .dataframe tbody tr th {\n",
       "        vertical-align: top;\n",
       "    }\n",
       "\n",
       "    .dataframe thead th {\n",
       "        text-align: right;\n",
       "    }\n",
       "</style>\n",
       "<table border=\"1\" class=\"dataframe\">\n",
       "  <thead>\n",
       "    <tr style=\"text-align: right;\">\n",
       "      <th></th>\n",
       "      <th>Facility ID</th>\n",
       "      <th>Record ID</th>\n",
       "      <th>Serial Number</th>\n",
       "      <th>Service Desc.</th>\n",
       "      <th>PE</th>\n",
       "      <th>PE Desc</th>\n",
       "      <th>Category</th>\n",
       "      <th>Description</th>\n",
       "      <th>County</th>\n",
       "      <th>Agency</th>\n",
       "      <th>...</th>\n",
       "      <th>FC48</th>\n",
       "      <th>FC49</th>\n",
       "      <th>FC50</th>\n",
       "      <th>FC51</th>\n",
       "      <th>FC52</th>\n",
       "      <th>FC53</th>\n",
       "      <th>FC54</th>\n",
       "      <th>FC55</th>\n",
       "      <th>FC56</th>\n",
       "      <th>Total Good Retail Practices Violations</th>\n",
       "    </tr>\n",
       "  </thead>\n",
       "  <tbody>\n",
       "    <tr>\n",
       "      <th>0</th>\n",
       "      <td>FA0009996</td>\n",
       "      <td>PR0011864</td>\n",
       "      <td>DAYR2RKBT</td>\n",
       "      <td>Inspection, Routine</td>\n",
       "      <td>1045</td>\n",
       "      <td>Restaurant (101 - 200 seats)</td>\n",
       "      <td>Med Risk (3)</td>\n",
       "      <td>Food - Restaurants</td>\n",
       "      <td>Arapahoe</td>\n",
       "      <td>Tri-County Health Department</td>\n",
       "      <td>...</td>\n",
       "      <td>0</td>\n",
       "      <td>1</td>\n",
       "      <td>0</td>\n",
       "      <td>1</td>\n",
       "      <td>0</td>\n",
       "      <td>0</td>\n",
       "      <td>0</td>\n",
       "      <td>0</td>\n",
       "      <td>0</td>\n",
       "      <td>4</td>\n",
       "    </tr>\n",
       "    <tr>\n",
       "      <th>1</th>\n",
       "      <td>FA0011070</td>\n",
       "      <td>PR0012733</td>\n",
       "      <td>DANHOPAEL</td>\n",
       "      <td>Inspection, Routine</td>\n",
       "      <td>1007</td>\n",
       "      <td>Limited Food Service (convenience, other)</td>\n",
       "      <td>Low Risk (2)</td>\n",
       "      <td>Food - Restaurants</td>\n",
       "      <td>Arapahoe</td>\n",
       "      <td>Tri-County Health Department</td>\n",
       "      <td>...</td>\n",
       "      <td>0</td>\n",
       "      <td>0</td>\n",
       "      <td>0</td>\n",
       "      <td>1</td>\n",
       "      <td>0</td>\n",
       "      <td>0</td>\n",
       "      <td>0</td>\n",
       "      <td>0</td>\n",
       "      <td>0</td>\n",
       "      <td>1</td>\n",
       "    </tr>\n",
       "    <tr>\n",
       "      <th>2</th>\n",
       "      <td>FA0010971</td>\n",
       "      <td>PR0012573</td>\n",
       "      <td>DAFZVKMMB</td>\n",
       "      <td>Inspection, Routine</td>\n",
       "      <td>1007</td>\n",
       "      <td>Limited Food Service (convenience, other)</td>\n",
       "      <td>Low Risk (2)</td>\n",
       "      <td>Food - Restaurants</td>\n",
       "      <td>Arapahoe</td>\n",
       "      <td>Tri-County Health Department</td>\n",
       "      <td>...</td>\n",
       "      <td>0</td>\n",
       "      <td>0</td>\n",
       "      <td>0</td>\n",
       "      <td>0</td>\n",
       "      <td>0</td>\n",
       "      <td>0</td>\n",
       "      <td>0</td>\n",
       "      <td>0</td>\n",
       "      <td>0</td>\n",
       "      <td>0</td>\n",
       "    </tr>\n",
       "    <tr>\n",
       "      <th>3</th>\n",
       "      <td>FA0008454</td>\n",
       "      <td>PR0011453</td>\n",
       "      <td>DAA6ICOWD</td>\n",
       "      <td>Inspection, Routine</td>\n",
       "      <td>1045</td>\n",
       "      <td>Restaurant (101 - 200 seats)</td>\n",
       "      <td>Med Risk (3)</td>\n",
       "      <td>Food - Restaurants</td>\n",
       "      <td>Arapahoe</td>\n",
       "      <td>Tri-County Health Department</td>\n",
       "      <td>...</td>\n",
       "      <td>0</td>\n",
       "      <td>0</td>\n",
       "      <td>0</td>\n",
       "      <td>0</td>\n",
       "      <td>0</td>\n",
       "      <td>0</td>\n",
       "      <td>0</td>\n",
       "      <td>0</td>\n",
       "      <td>0</td>\n",
       "      <td>1</td>\n",
       "    </tr>\n",
       "    <tr>\n",
       "      <th>4</th>\n",
       "      <td>FA0003507</td>\n",
       "      <td>PR0010770</td>\n",
       "      <td>DATCQ0VC0</td>\n",
       "      <td>Inspection, Routine</td>\n",
       "      <td>1025</td>\n",
       "      <td>Restaurant (0 - 100 seats)</td>\n",
       "      <td>Med Risk (3)</td>\n",
       "      <td>Food - Restaurants</td>\n",
       "      <td>Douglas</td>\n",
       "      <td>Tri-County Health Department</td>\n",
       "      <td>...</td>\n",
       "      <td>0</td>\n",
       "      <td>0</td>\n",
       "      <td>0</td>\n",
       "      <td>0</td>\n",
       "      <td>0</td>\n",
       "      <td>0</td>\n",
       "      <td>0</td>\n",
       "      <td>1</td>\n",
       "      <td>0</td>\n",
       "      <td>7</td>\n",
       "    </tr>\n",
       "  </tbody>\n",
       "</table>\n",
       "<p>5 rows × 76 columns</p>\n",
       "</div>"
      ],
      "text/plain": [
       "  Facility ID  Record ID Serial Number        Service Desc.    PE  \\\n",
       "0   FA0009996  PR0011864     DAYR2RKBT  Inspection, Routine  1045   \n",
       "1   FA0011070  PR0012733     DANHOPAEL  Inspection, Routine  1007   \n",
       "2   FA0010971  PR0012573     DAFZVKMMB  Inspection, Routine  1007   \n",
       "3   FA0008454  PR0011453     DAA6ICOWD  Inspection, Routine  1045   \n",
       "4   FA0003507  PR0010770     DATCQ0VC0  Inspection, Routine  1025   \n",
       "\n",
       "                                     PE Desc      Category  \\\n",
       "0               Restaurant (101 - 200 seats)  Med Risk (3)   \n",
       "1  Limited Food Service (convenience, other)  Low Risk (2)   \n",
       "2  Limited Food Service (convenience, other)  Low Risk (2)   \n",
       "3               Restaurant (101 - 200 seats)  Med Risk (3)   \n",
       "4                 Restaurant (0 - 100 seats)  Med Risk (3)   \n",
       "\n",
       "          Description    County                        Agency  ... FC48 FC49  \\\n",
       "0  Food - Restaurants  Arapahoe  Tri-County Health Department  ...    0    1   \n",
       "1  Food - Restaurants  Arapahoe  Tri-County Health Department  ...    0    0   \n",
       "2  Food - Restaurants  Arapahoe  Tri-County Health Department  ...    0    0   \n",
       "3  Food - Restaurants  Arapahoe  Tri-County Health Department  ...    0    0   \n",
       "4  Food - Restaurants   Douglas  Tri-County Health Department  ...    0    0   \n",
       "\n",
       "  FC50 FC51 FC52 FC53 FC54 FC55  FC56  Total Good Retail Practices Violations  \n",
       "0    0    1    0    0    0    0     0                                       4  \n",
       "1    0    1    0    0    0    0     0                                       1  \n",
       "2    0    0    0    0    0    0     0                                       0  \n",
       "3    0    0    0    0    0    0     0                                       1  \n",
       "4    0    0    0    0    0    1     0                                       7  \n",
       "\n",
       "[5 rows x 76 columns]"
      ]
     },
     "execution_count": 3,
     "metadata": {},
     "output_type": "execute_result"
    }
   ],
   "source": [
    "# Clean data\n",
    "df_clean = df.fillna(\"0\")\n",
    "df_clean.head()"
   ]
  },
  {
   "cell_type": "code",
   "execution_count": 4,
   "metadata": {},
   "outputs": [],
   "source": [
    "# Count for Facility ID"
   ]
  },
  {
   "cell_type": "code",
   "execution_count": 5,
   "metadata": {},
   "outputs": [],
   "source": [
    "# Sum of frequency in PE column, PE Desc column and both combined"
   ]
  },
  {
   "cell_type": "code",
   "execution_count": 6,
   "metadata": {},
   "outputs": [],
   "source": [
    "# Remove Agency column"
   ]
  },
  {
   "cell_type": "code",
   "execution_count": 7,
   "metadata": {},
   "outputs": [],
   "source": [
    "# Group by and filter by Restaurant size, Risk factor"
   ]
  },
  {
   "cell_type": "code",
   "execution_count": 8,
   "metadata": {},
   "outputs": [],
   "source": [
    "# Group by county, city"
   ]
  },
  {
   "cell_type": "code",
   "execution_count": 9,
   "metadata": {},
   "outputs": [],
   "source": [
    "# Frequency of each location's \"Total Foodborne Illness Risk Violations\"\n",
    "# plot bar chart"
   ]
  },
  {
   "cell_type": "code",
   "execution_count": 10,
   "metadata": {},
   "outputs": [],
   "source": [
    "# Frequency of each location's \"Total Foodborne Illness Risk Violations\"\n",
    "# plot bar chart"
   ]
  },
  {
   "cell_type": "code",
   "execution_count": 11,
   "metadata": {},
   "outputs": [],
   "source": [
    "# Form new columns: totalInfractions & inspScore"
   ]
  },
  {
   "cell_type": "code",
   "execution_count": 12,
   "metadata": {},
   "outputs": [],
   "source": [
    "# **WHAT CAN BE USED TO CALL THE DATA FROM CDPHE DATABASE\n",
    "# FOR VERIFICATION OF CHECK?**"
   ]
  },
  {
   "cell_type": "code",
   "execution_count": 13,
   "metadata": {},
   "outputs": [],
   "source": [
    "# Python SQL toolikt and Object Relational Mapper\n",
    "import sqlalchemy\n",
    "from sqlalchemy.ext.automap import automap_base\n",
    "from sqlalchemy.orm import Session\n",
    "from sqlalchemy import create_engine, func"
   ]
  },
  {
   "cell_type": "code",
   "execution_count": 14,
   "metadata": {},
   "outputs": [],
   "source": [
    "engine = create_engine(\"sqlite:///resources/tricounty.sqlite\")"
   ]
  },
  {
   "cell_type": "code",
   "execution_count": 15,
   "metadata": {},
   "outputs": [],
   "source": [
    "# reflect an existing database into a new model\n",
    "Base = automap_base()\n",
    "\n",
    "# reflect the tables\n",
    "Base.prepare(engine, reflect = True)"
   ]
  },
  {
   "cell_type": "code",
   "execution_count": 16,
   "metadata": {},
   "outputs": [
    {
     "data": {
      "text/plain": [
       "[]"
      ]
     },
     "execution_count": 16,
     "metadata": {},
     "output_type": "execute_result"
    }
   ],
   "source": [
    "# We can view all of the classes that automap found\n",
    "tricounty = Base.classes.keys()\n",
    "tricounty"
   ]
  },
  {
   "cell_type": "code",
   "execution_count": 17,
   "metadata": {},
   "outputs": [],
   "source": [
    "# Save references to each table\n"
   ]
  },
  {
   "cell_type": "code",
   "execution_count": 18,
   "metadata": {},
   "outputs": [],
   "source": [
    "# Create our session (link) from Python to the DB\n"
   ]
  },
  {
   "cell_type": "code",
   "execution_count": 19,
   "metadata": {},
   "outputs": [],
   "source": [
    "# Design a query to retrieve the last 12 months of inspection data \n",
    "## and plot the results\n",
    "# Perform a query to retrieve the data and inspection scores"
   ]
  },
  {
   "cell_type": "code",
   "execution_count": 20,
   "metadata": {},
   "outputs": [],
   "source": [
    "# Use Pandas to calcualte the summary statistics for the precipitation data\n"
   ]
  },
  {
   "cell_type": "code",
   "execution_count": 21,
   "metadata": {},
   "outputs": [],
   "source": [
    "# Which county's restaurants had the most violations?\n",
    "# worst_county = session.query(\"\", func.count(\"\"))\n",
    "# List the stations and the counts in descending order.\n",
    "# worst_county.group_by(\"\").order_by(func.count(\"\")).desc()).all()"
   ]
  },
  {
   "cell_type": "code",
   "execution_count": null,
   "metadata": {},
   "outputs": [],
   "source": []
  },
  {
   "cell_type": "code",
   "execution_count": 22,
   "metadata": {},
   "outputs": [],
   "source": [
    "# Choose the county with the highest number of restaurant violations.\n",
    "# Query the yearly inspection results of each restaurant in the county."
   ]
  }
 ],
 "metadata": {
  "kernelspec": {
   "display_name": "Python 3",
   "language": "python",
   "name": "python3"
  },
  "language_info": {
   "codemirror_mode": {
    "name": "ipython",
    "version": 3
   },
   "file_extension": ".py",
   "mimetype": "text/x-python",
   "name": "python",
   "nbconvert_exporter": "python",
   "pygments_lexer": "ipython3",
   "version": "3.8.5"
  }
 },
 "nbformat": 4,
 "nbformat_minor": 4
}
